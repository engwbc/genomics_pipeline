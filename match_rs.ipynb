{
 "cells": [
  {
   "attachments": {},
   "cell_type": "markdown",
   "metadata": {},
   "source": [
    "Script that searches for SNP IDs from Illumina microarray MAP files."
   ]
  },
  {
   "attachments": {},
   "cell_type": "markdown",
   "metadata": {},
   "source": [
    "## Import packages"
   ]
  },
  {
   "cell_type": "code",
   "execution_count": 1,
   "metadata": {},
   "outputs": [],
   "source": [
    "import pandas as pd "
   ]
  },
  {
   "attachments": {},
   "cell_type": "markdown",
   "metadata": {},
   "source": [
    "## Import data"
   ]
  },
  {
   "cell_type": "code",
   "execution_count": 12,
   "metadata": {},
   "outputs": [
    {
     "name": "stdout",
     "output_type": "stream",
     "text": [
      "Detected SNPs: 964193\n",
      "    0                    1          2          3\n",
      "0   1   exm-IND1-200449980  200.60350  202183358\n",
      "1   1    exm-IND1-85310248  109.37180   85537661\n",
      "2  10  exm-IND10-102817747  121.16370  102827758\n",
      "3  10   exm-IND10-18329639   42.88673   18289634\n",
      "4  10   exm-IND10-27476467   51.56835   27436462\n"
     ]
    },
    {
     "data": {
      "text/plain": [
       "0    string[python]\n",
       "1    string[python]\n",
       "2           Float64\n",
       "3             Int64\n",
       "dtype: object"
      ]
     },
     "execution_count": 12,
     "metadata": {},
     "output_type": "execute_result"
    }
   ],
   "source": [
    "mapfile = \"data.map\"\n",
    "mapdf = pd.read_csv(mapfile,delimiter=\"\\t\", header=None)\n",
    "print(f\"Detected SNPs: {len(mapdf)}\")\n",
    "print(mapdf.head())\n",
    "mapdfconverted = mapdf.convert_dtypes() # Chromosome no. and rsID were \"object\" types \n",
    "mapdfconverted.dtypes # Pandas automatically converts them to string type"
   ]
  },
  {
   "cell_type": "code",
   "execution_count": 13,
   "metadata": {},
   "outputs": [
    {
     "data": {
      "text/plain": [
       "0          exm-IND1-200449980\n",
       "1           exm-IND1-85310248\n",
       "2         exm-IND10-102817747\n",
       "3          exm-IND10-18329639\n",
       "4          exm-IND10-27476467\n",
       "                 ...         \n",
       "964188              VGXS34742\n",
       "964189              VGXS34743\n",
       "964190              VGXS34744\n",
       "964191              VGXS34761\n",
       "964192              VGXS35706\n",
       "Name: 1, Length: 964193, dtype: string"
      ]
     },
     "execution_count": 13,
     "metadata": {},
     "output_type": "execute_result"
    }
   ],
   "source": [
    "mapdfconverted[1]"
   ]
  },
  {
   "attachments": {},
   "cell_type": "markdown",
   "metadata": {},
   "source": [
    "I was interested in finding all the alleles for CYP2C9 and CYP2C19 in case they showed up as hits in subsequent GWAS analyses. <br>\n",
    "The IDs for these alleles were obtained from https://www.pharmgkb.org/ and exported into a .csv file. <br>\n",
    "I then extracted the rsID row into separate .txt files to use as a simplified list for indexing."
   ]
  },
  {
   "cell_type": "code",
   "execution_count": 4,
   "metadata": {},
   "outputs": [
    {
     "name": "stdout",
     "output_type": "stream",
     "text": [
      "CYP2C9 rsID: ['rs114071557', 'rs67807361', 'rs142240658', 'rs1364419386', 'rs2031308986', 'rs564813580', 'rs371055887', 'rs72558187', 'rs762239445', 'rs1304490498', 'rs774607211', 'rs767576260', 'rs12414460', 'rs375805362', 'rs72558189', 'rs1375956433', 'rs200965026', 'rs199523631', 'rs200183364', 'rs1799853', 'rs141489852', 'rs754487195', 'rs1289704600', 'rs17847037', 'rs7900194', 'rs72558190', 'rs774550549', 'rs1326630788', 'rs2031531005', 'rs370100007', 'rs772782449', 'rs2256871', 'rs9332130', 'rs9332131', 'rs182132442', 'rs72558192', 'rs988617574', 'rs1237225311', 'rs57505750', 'rs28371685', 'rs367826293', 'rs1274535931', 'rs750820937', 'rs1297714792', 'rs749060448', 'rs1057910', 'rs56165452', 'rs28371686', 'rs1250577724', 'rs578144976', 'rs542577750', 'rs764211126', 'rs72558193', 'rs1254213342', 'rs1441296358', 'rs776908257', 'rs769942899', 'rs202201137', 'rs767284820', 'rs781583846', 'rs9332239', 'rs868182778']\n",
      "CYP2C19 rsID:['rs12248560', 'rs28399504', 'rs367543002', 'rs367543003', 'rs55752064', 'rs17882687', 'rs1564656981', 'rs1564657013', 'rs145328984', 'rs1564660997', 'rs118203756', 'rs1288601658', 'rs12769205', 'rs41291556', 'rs17885179', 'rs72552267', 'rs17884712', 'rs58973490', 'rs140278421', 'rs370803989', 'rs4986893', 'rs6413438', 'rs4244285', 'rs375781227', 'rs72558186', 'rs138142612', 'rs3758581', 'rs118203757', 'rs113934938', 'rs17879685', 'rs56337013', 'rs192154563', 'rs118203759', 'rs55640102']\n"
     ]
    }
   ],
   "source": [
    "#Import allele list from txt file\n",
    "cyp2c9_alleles = open('cyp2c9_alleles.txt','r').read().split()\n",
    "cyp2c19_alleles = open('cyp2c19_alleles.txt','r').read().split()\n",
    "print(f\"CYP2C9 rsID: {cyp2c9_alleles}\\nCYP2C19 rsID:{cyp2c19_alleles}\", sep=\"\\n\")"
   ]
  },
  {
   "attachments": {},
   "cell_type": "markdown",
   "metadata": {},
   "source": [
    "## Run matching function"
   ]
  },
  {
   "cell_type": "code",
   "execution_count": 36,
   "metadata": {},
   "outputs": [
    {
     "name": "stdout",
     "output_type": "stream",
     "text": [
      "2539 True\n",
      "626530 True\n",
      "\n",
      "\n",
      "529877 True\n",
      "627322 True\n",
      "681866 True\n",
      "735870 True\n",
      "762620 True\n"
     ]
    },
    {
     "data": {
      "text/html": [
       "<div>\n",
       "<style scoped>\n",
       "    .dataframe tbody tr th:only-of-type {\n",
       "        vertical-align: middle;\n",
       "    }\n",
       "\n",
       "    .dataframe tbody tr th {\n",
       "        vertical-align: top;\n",
       "    }\n",
       "\n",
       "    .dataframe thead th {\n",
       "        text-align: right;\n",
       "    }\n",
       "</style>\n",
       "<table border=\"1\" class=\"dataframe\">\n",
       "  <thead>\n",
       "    <tr style=\"text-align: right;\">\n",
       "      <th></th>\n",
       "      <th>0</th>\n",
       "      <th>1</th>\n",
       "      <th>2</th>\n",
       "      <th>3</th>\n",
       "    </tr>\n",
       "  </thead>\n",
       "  <tbody>\n",
       "    <tr>\n",
       "      <th>2539</th>\n",
       "      <td>10</td>\n",
       "      <td>exm-rs1799853</td>\n",
       "      <td>115.3083</td>\n",
       "      <td>96702047</td>\n",
       "    </tr>\n",
       "    <tr>\n",
       "      <th>626530</th>\n",
       "      <td>10</td>\n",
       "      <td>rs28371685</td>\n",
       "      <td>115.3165</td>\n",
       "      <td>96740981</td>\n",
       "    </tr>\n",
       "    <tr>\n",
       "      <th>529877</th>\n",
       "      <td>10</td>\n",
       "      <td>rs17879685</td>\n",
       "      <td>115.2889</td>\n",
       "      <td>96609752</td>\n",
       "    </tr>\n",
       "    <tr>\n",
       "      <th>627322</th>\n",
       "      <td>10</td>\n",
       "      <td>rs28399504</td>\n",
       "      <td>115.2706</td>\n",
       "      <td>96522463</td>\n",
       "    </tr>\n",
       "    <tr>\n",
       "      <th>681866</th>\n",
       "      <td>10</td>\n",
       "      <td>rs4244285</td>\n",
       "      <td>115.2746</td>\n",
       "      <td>96541616</td>\n",
       "    </tr>\n",
       "    <tr>\n",
       "      <th>735870</th>\n",
       "      <td>10</td>\n",
       "      <td>rs4986893</td>\n",
       "      <td>115.2744</td>\n",
       "      <td>96540410</td>\n",
       "    </tr>\n",
       "    <tr>\n",
       "      <th>762620</th>\n",
       "      <td>10</td>\n",
       "      <td>rs6413438</td>\n",
       "      <td>115.2746</td>\n",
       "      <td>96541615</td>\n",
       "    </tr>\n",
       "  </tbody>\n",
       "</table>\n",
       "</div>"
      ],
      "text/plain": [
       "         0              1         2         3\n",
       "2539    10  exm-rs1799853  115.3083  96702047\n",
       "626530  10     rs28371685  115.3165  96740981\n",
       "529877  10     rs17879685  115.2889  96609752\n",
       "627322  10     rs28399504  115.2706  96522463\n",
       "681866  10      rs4244285  115.2746  96541616\n",
       "735870  10      rs4986893  115.2744  96540410\n",
       "762620  10      rs6413438  115.2746  96541615"
      ]
     },
     "execution_count": 36,
     "metadata": {},
     "output_type": "execute_result"
    }
   ],
   "source": [
    "#need to match with regex, print matching results, output to list then find in dataframe\n",
    "cyp2c9_alleles2 = \"|\".join(cyp2c9_alleles)\n",
    "cyp2c19_alleles2 = \"|\".join(cyp2c19_alleles) #need to reformat list to string sequence\n",
    "\n",
    "cyp2c9_match = mapdfconverted[1].str.contains('^.*'+cyp2c9_alleles2,regex=True)\n",
    "cyp2c19_match = mapdfconverted[1].str.contains('^.*'+cyp2c19_alleles2,regex=True)\n",
    "matched = []\n",
    "\n",
    "def GetMatchedID(pdseries):\n",
    "    for i,e in enumerate(pdseries.array):\n",
    "            if e == True:\n",
    "                print(i,e) # Get index for matched rsID\n",
    "                matched.append(i) #Compile to a list\n",
    "            \n",
    "GetMatchedID(cyp2c9_match)\n",
    "#2 hits found - corresponding to SNP #2540 and #626531\n",
    "print(\"\\n\")\n",
    "GetMatchedID(cyp2c19_match)\n",
    "#5 hits found - corresponding to SNP #529878, #627323, #681867, #735871, #762621\n",
    "\n",
    "matched_df = mapdfconverted.iloc[matched]\n",
    "matched_df"
   ]
  },
  {
   "attachments": {},
   "cell_type": "markdown",
   "metadata": {},
   "source": [
    "Export DF"
   ]
  },
  {
   "cell_type": "code",
   "execution_count": 2,
   "metadata": {},
   "outputs": [],
   "source": [
    "save = input(\"Save to file? (y/n)\").lower()\n",
    "if save == 'y':\n",
    "    exportname = 'matched_alleles'+'.csv'\n",
    "    matched_df.to_csv(exportname,sep='\\t',index=False,header=False)\n",
    "    print(f\"Exported results to {exportname}\")\n",
    "else:\n",
    "    raise SystemExit"
   ]
  },
  {
   "attachments": {},
   "cell_type": "markdown",
   "metadata": {},
   "source": [
    "To demonstrate that the following code above works, a dummy dataframe is created from a list of randomly selected variant IDs. <br> Some IDs are modified with random preceding string sequences, others are unchanged. <br> \n",
    "3 alleles should be a match."
   ]
  },
  {
   "cell_type": "code",
   "execution_count": 48,
   "metadata": {},
   "outputs": [
    {
     "name": "stdout",
     "output_type": "stream",
     "text": [
      "                        0\n",
      "0        exm-rs1250577724\n",
      "1       IND1-rs1297714792\n",
      "2           exm-rs1000113\n",
      "3              rs17803441\n",
      "4              rs17803457\n",
      "5              rs17803505\n",
      "6       random-rs17803584\n",
      "7      xxxxasxa-rs1780361\n",
      "8   ran-dom10-rs868182778\n",
      "9     ind10101-rs58973490\n"
     ]
    },
    {
     "data": {
      "text/plain": [
       "0    False\n",
       "1    False\n",
       "2    False\n",
       "3    False\n",
       "4    False\n",
       "5    False\n",
       "6    False\n",
       "7    False\n",
       "8    False\n",
       "9     True\n",
       "Name: 0, dtype: bool"
      ]
     },
     "execution_count": 48,
     "metadata": {},
     "output_type": "execute_result"
    }
   ],
   "source": [
    "test = ['exm-rs1250577724','IND1-rs1297714792', 'exm-rs1000113','rs17803441','rs17803457','rs17803505',\n",
    "'random-rs17803584','xxxxasxa-rs1780361',' ran-dom10-rs868182778','ind10101-rs58973490']\n",
    "testdf = pd.DataFrame(test)\n",
    "print(testdf)\n",
    "testdf[0].str.contains('^.*'+cyp2c19_alleles2,regex=True)"
   ]
  }
 ],
 "metadata": {
  "kernelspec": {
   "display_name": "Python 3",
   "language": "python",
   "name": "python3"
  },
  "language_info": {
   "codemirror_mode": {
    "name": "ipython",
    "version": 3
   },
   "file_extension": ".py",
   "mimetype": "text/x-python",
   "name": "python",
   "nbconvert_exporter": "python",
   "pygments_lexer": "ipython3",
   "version": "3.9.13"
  },
  "orig_nbformat": 4
 },
 "nbformat": 4,
 "nbformat_minor": 2
}
